{
  "nbformat": 4,
  "nbformat_minor": 0,
  "metadata": {
    "colab": {
      "provenance": [],
      "authorship_tag": "ABX9TyN21D8z5xsDi+TLgQY5AUUN",
      "include_colab_link": true
    },
    "kernelspec": {
      "name": "python3",
      "display_name": "Python 3"
    },
    "language_info": {
      "name": "python"
    }
  },
  "cells": [
    {
      "cell_type": "markdown",
      "metadata": {
        "id": "view-in-github",
        "colab_type": "text"
      },
      "source": [
        "<a href=\"https://colab.research.google.com/github/GKD-stack/DSC180A-Methodology-1/blob/main/DSC180A_Week7.ipynb\" target=\"_parent\"><img src=\"https://colab.research.google.com/assets/colab-badge.svg\" alt=\"Open In Colab\"/></a>"
      ]
    },
    {
      "cell_type": "code",
      "execution_count": null,
      "metadata": {
        "colab": {
          "base_uri": "https://localhost:8080/"
        },
        "id": "q67iPRvMoego",
        "outputId": "494b36d2-d913-44a1-97fc-2afc35ee73c6"
      },
      "outputs": [
        {
          "output_type": "stream",
          "name": "stdout",
          "text": [
            "Mounted at /content/drive\n"
          ]
        }
      ],
      "source": [
        "!! pip install pandas_plink\n",
        "from pandas_plink import read_plink\n",
        "import pandas_plink as pdplink\n",
        "import pandas as pd\n",
        "import numpy as np\n",
        "import matplotlib.pyplot as plt\n",
        "import statsmodels.api as sm\n",
        "from google.colab import drive\n",
        "drive.mount('/content/drive')"
      ]
    },
    {
      "cell_type": "markdown",
      "source": [
        "# Set up Summary Stat File Pipeline Function"
      ],
      "metadata": {
        "id": "NLozbjt6wO7o"
      }
    },
    {
      "cell_type": "code",
      "source": [
        "def get_genefiles(chromosome, start_coord, end_coord,gene_abv):\n",
        "  \"\"\"\n",
        "  This function gives the command to get the genotype for a particular gene locus\n",
        "  \"\"\"\n",
        "  c = f\"\"\"plink --bfile LDREF/1000G.EUR.{chromosome} --chr {chromosome} --from-bp {start_coord-500000} --to-bp {end_coord+500000} --make-bed --out 1000G.EUR.{chromosome}.{gene_abv}\"\"\"\n",
        "  return c"
      ],
      "metadata": {
        "id": "uPAv6PRzLyR2"
      },
      "execution_count": null,
      "outputs": []
    },
    {
      "cell_type": "code",
      "source": [
        "# Load expression data\n",
        "import pandas as pd\n",
        "import numpy as np\n",
        "import statsmodels.api as sm\n",
        "import matplotlib.pyplot as plt\n",
        "\n",
        "expr_data = pd.read_table(\"/content/drive/My Drive/Colab Notebooks/exp.txt\", sep=\"\\t\")\n",
        "\n",
        "def make_summary_stats(long_gene_symbol, chromosome,gene_abv):\n",
        "  \"\"\"\n",
        "  This function takes some chromosome and gene info and generates a summary stats txt file\n",
        "  \"\"\"\n",
        "  expr_data['TargetID_without_version'] = expr_data['TargetID'].str.split('.').str[0]\n",
        "  expr_data['Gene_Symbol_without_version'] = expr_data['Gene_Symbol'].str.split('.').str[0]\n",
        "  bcr_expr = expr_data[expr_data[\"Gene_Symbol_without_version\"] == long_gene_symbol]\n",
        "  bcr_vals = bcr_expr.drop(columns=['TargetID','Gene_Symbol', 'Chr', 'Coord', 'TargetID_without_version', 'Gene_Symbol_without_version'])\n",
        "\n",
        "  #Load genotype data\n",
        "  (bim, fam, bed) = read_plink(f'/content/drive/My Drive/Colab Notebooks/1000G.EUR.{chromosome}.{gene_abv}')\n",
        "\n",
        "  #filter fam\n",
        "  fam_ids = fam['fid'].tolist()\n",
        "  expression_ids = bcr_vals.columns.tolist()\n",
        "  common_ids = set(fam_ids) & set(expression_ids)\n",
        "  fam_df_filtered = fam[fam['fid'].isin(common_ids)]\n",
        "  expression_df_filtered = bcr_vals[common_ids]\n",
        "\n",
        "  #make sure IDs line up\n",
        "  fam_df_sorted = fam_df_filtered.sort_values(by='fid')\n",
        "  expression_df_sorted = expression_df_filtered[sorted(expression_df_filtered.columns.tolist())]\n",
        "\n",
        "  #filter bed\n",
        "  expression_ids = expression_df_sorted.columns.tolist()\n",
        "  fam_ids = fam_df_sorted.iloc[:, 1].tolist()\n",
        "  indices = [fam_ids.index(exp_id) for exp_id in expression_ids if exp_id in fam_ids]\n",
        "  bed_filtered = bed[:, indices]\n",
        "  expression_values = expression_df_filtered.iloc[0, :].values\n",
        "\n",
        "  #get p values\n",
        "  p_values = []\n",
        "  best_p = 99999\n",
        "  best_snp = None\n",
        "  for snp_index in range(bed_filtered.shape[0]):\n",
        "      genotype = bed_filtered[snp_index, :]\n",
        "      X = sm.add_constant(genotype)\n",
        "      model = sm.OLS(expression_values, X)\n",
        "      results = model.fit()\n",
        "      p_values.append(results.pvalues[1])\n",
        "\n",
        "      if results.pvalues[1] < best_p:\n",
        "        best_p = results.pvalues[1]\n",
        "        best_snp = snp_index\n",
        "\n",
        "  p_values = np.array(p_values)\n",
        "  summary_stats = pd.DataFrame({\n",
        "      'CHR': chromosome,\n",
        "      'POS': bim['pos'].values,  # Genomic positions of SNPs\n",
        "      'REF': bim['a0'].values,  # Reference alleles\n",
        "      'ALT': bim['a1'].values,  # Alternative alleles\n",
        "      'P': p_values  # Calculated p-values\n",
        "  })\n",
        "\n",
        "  # Optionally, convert P-values to -log10(p) if required\n",
        "  summary_stats['NEG_LOG10_P'] = -np.log10(summary_stats['P'])\n",
        "  sorted_summary_stats = summary_stats.sort_values(by=['POS'])\n",
        "  # Save the sorted data to a text file\n",
        "  sorted_summary_stats.to_csv(f'/content/drive/My Drive/Colab Notebooks/{gene_abv}_Summary_Stats.txt',\n",
        "                              sep='\\t',\n",
        "                              index=False)\n",
        "\n",
        "  #get viz\n",
        "  snp_positions = bim['pos'].values\n",
        "  negative_log10_p_values = -np.log10(p_values)\n",
        "  plt.figure(figsize=(10, 5))\n",
        "  plt.scatter(snp_positions, negative_log10_p_values, color='blue', s=5)\n",
        "  plt.xlabel('Genomic Coordinate (Position)')\n",
        "  plt.ylabel('-log10(p-value)')\n",
        "  plt.title(f'LocusZoom-like Plot for Gene {gene_abv} eQTL Analysis')\n",
        "  plt.grid(True, which=\"both\", ls=\"--\", c='0.7')\n",
        "  plt.tight_layout()\n",
        "  plt.show()\n",
        "\n",
        "  return best_snp"
      ],
      "metadata": {
        "id": "NQDnyj82Ks5S"
      },
      "execution_count": null,
      "outputs": []
    },
    {
      "cell_type": "markdown",
      "source": [
        "# Generate genotype files, make summary stats, and make LocusZoom plots here and on the actual website\n",
        "\n",
        "Here are the links for the 3 plots I made:\n",
        "\n",
        "\n",
        "\n",
        "1.   BCR: https://my.locuszoom.org/gwas/559583/\n",
        "2.   COMT: https://my.locuszoom.org/gwas/899895/\n",
        "3.   ZDHHC8: https://my.locuszoom.org/gwas/669679/\n",
        "\n"
      ],
      "metadata": {
        "id": "maAXo-PowwGD"
      }
    },
    {
      "cell_type": "code",
      "source": [
        "get_genefiles(22, 23179703, 23318037,'BCR')"
      ],
      "metadata": {
        "colab": {
          "base_uri": "https://localhost:8080/",
          "height": 53
        },
        "id": "C1yTpSE-MkoG",
        "outputId": "94d2eb2a-3210-4d0c-ffb0-c80df0cef74a"
      },
      "execution_count": null,
      "outputs": [
        {
          "output_type": "execute_result",
          "data": {
            "text/plain": [
              "'plink --bfile LDREF/1000G.EUR.22 --chr 22 --from-bp 22679703 --to-bp 23818037 --make-bed --out 1000G.EUR.22.BCR'"
            ],
            "application/vnd.google.colaboratory.intrinsic+json": {
              "type": "string"
            }
          },
          "metadata": {},
          "execution_count": 29
        }
      ]
    },
    {
      "cell_type": "code",
      "source": [
        "get_genefiles(22, 20129455, 20148007,'ZDHHC8')"
      ],
      "metadata": {
        "colab": {
          "base_uri": "https://localhost:8080/",
          "height": 53
        },
        "id": "0LXN2wdnRcIo",
        "outputId": "f0572c21-dcaf-4ebf-c109-63d0e04ef34c"
      },
      "execution_count": null,
      "outputs": [
        {
          "output_type": "execute_result",
          "data": {
            "text/plain": [
              "'plink --bfile LDREF/1000G.EUR.22 --chr 22 --from-bp 19629455 --to-bp 20648007 --make-bed --out 1000G.EUR.22.ZDHHC8'"
            ],
            "application/vnd.google.colaboratory.intrinsic+json": {
              "type": "string"
            }
          },
          "metadata": {},
          "execution_count": 47
        }
      ]
    },
    {
      "cell_type": "code",
      "source": [
        "make_summary_stats(\"ENSG00000099904\", 22,\"ZDHHC8\")"
      ],
      "metadata": {
        "colab": {
          "base_uri": "https://localhost:8080/",
          "height": 401
        },
        "id": "LXakdyw1R25W",
        "outputId": "8d6c4387-2f9a-452b-d70c-b5e38e62b308"
      },
      "execution_count": null,
      "outputs": [
        {
          "output_type": "stream",
          "name": "stderr",
          "text": [
            "Mapping files: 100%|██████████| 3/3 [00:02<00:00,  1.09it/s]\n",
            "<ipython-input-45-0730785b6e4e>:25: FutureWarning: Passing a set as an indexer is deprecated and will raise in a future version. Use a list instead.\n",
            "  expression_df_filtered = bcr_vals[common_ids]\n"
          ]
        },
        {
          "output_type": "display_data",
          "data": {
            "text/plain": [
              "<Figure size 1000x500 with 1 Axes>"
            ],
            "image/png": "[encoded data removed]"
          },
          "metadata": {}
        }
      ]
    },
    {
      "cell_type": "code",
      "source": [
        "get_genefiles(22, 19950941, 19967694,'COMT')"
      ],
      "metadata": {
        "colab": {
          "base_uri": "https://localhost:8080/",
          "height": 53
        },
        "id": "DRAC7CLDPCCK",
        "outputId": "1ca0d2cf-236a-49a7-f505-b6962b7bf827"
      },
      "execution_count": null,
      "outputs": [
        {
          "output_type": "execute_result",
          "data": {
            "text/plain": [
              "'plink --bfile LDREF/1000G.EUR.22 --chr 22 --from-bp 19450941 --to-bp 20467694 --make-bed --out 1000G.EUR.22.COMT'"
            ],
            "application/vnd.google.colaboratory.intrinsic+json": {
              "type": "string"
            }
          },
          "metadata": {},
          "execution_count": 40
        }
      ]
    },
    {
      "cell_type": "code",
      "source": [
        "make_summary_stats(\"ENSG00000093010\", 22,\"COMT\")"
      ],
      "metadata": {
        "colab": {
          "base_uri": "https://localhost:8080/",
          "height": 418
        },
        "id": "3NzdhNpwPyZB",
        "outputId": "1500f6f2-85cb-4c30-ae18-c312204cd5db"
      },
      "execution_count": null,
      "outputs": [
        {
          "output_type": "stream",
          "name": "stderr",
          "text": [
            "Mapping files: 100%|██████████| 3/3 [00:00<00:00, 130.77it/s]\n",
            "<ipython-input-19-71ba8c0a8a2f>:26: FutureWarning: Passing a set as an indexer is deprecated and will raise in a future version. Use a list instead.\n",
            "  expression_df_filtered = bcr_vals[common_ids]\n"
          ]
        },
        {
          "output_type": "display_data",
          "data": {
            "text/plain": [
              "<Figure size 1000x500 with 1 Axes>"
            ],
            "image/png": "[encoded data removed]"
          },
          "metadata": {}
        },
        {
          "output_type": "execute_result",
          "data": {
            "text/plain": [
              "258"
            ]
          },
          "metadata": {},
          "execution_count": 20
        }
      ]
    },
    {
      "cell_type": "markdown",
      "source": [
        "# Weekly Questions"
      ],
      "metadata": {
        "id": "Z3jh258NycOX"
      }
    },
    {
      "cell_type": "markdown",
      "source": [
        "## How many significant cis-eQTLs did you find on chr 22? (e.g. p-value < 0.05/number of SNP-gene pairs you tested)"
      ],
      "metadata": {
        "id": "2hJzCRwJygvJ"
      }
    },
    {
      "cell_type": "code",
      "source": [
        "zdf = pd.read_csv(\"/content/drive/My Drive/Colab Notebooks/ZDHHC8_Summary_Stats.txt\", delimiter=\"\\t\")\n",
        "cdf = pd.read_csv(\"/content/drive/My Drive/Colab Notebooks/COMT_Summary_Stats.txt\", delimiter=\"\\t\")\n",
        "bdf = pd.read_csv(\"/content/drive/My Drive/Colab Notebooks/Sorted_BCR_Summary_Stats.txt\", delimiter=\"\\t\")\n",
        "bdf"
      ],
      "metadata": {
        "colab": {
          "base_uri": "https://localhost:8080/",
          "height": 423
        },
        "id": "yVPhgJsUxUEy",
        "outputId": "bb585f83-3cc7-41bf-c062-0ba432ca8e84"
      },
      "execution_count": null,
      "outputs": [
        {
          "output_type": "execute_result",
          "data": {
            "text/plain": [
              "     CHR       POS REF ALT         P  NEG_LOG10_P\n",
              "0     22  22681765   A   G  0.838161     0.076672\n",
              "1     22  22685340   T   C  0.451691     0.345158\n",
              "2     22  22694313   A   G  0.991358     0.003770\n",
              "3     22  22694382   A   G  0.991358     0.003770\n",
              "4     22  22694486   G   A  0.388826     0.410244\n",
              "..   ...       ...  ..  ..       ...          ...\n",
              "302   22  23650987   T   G  0.686506     0.163356\n",
              "303   22  23654436   G   A  0.443039     0.353558\n",
              "304   22  23666379   T   G  0.934429     0.029454\n",
              "305   22  23667731   C   T  0.756186     0.121371\n",
              "306   22  23676895   A   G  0.832798     0.079461\n",
              "\n",
              "[307 rows x 6 columns]"
            ],
            "text/html": [
              "\n",
              "  <div id=\"df-33015966-ec29-4295-8b4b-150ccbfd9b94\" class=\"colab-df-container\">\n",
              "    <div>\n",
              "<style scoped>\n",
              "    .dataframe tbody tr th:only-of-type {\n",
              "        vertical-align: middle;\n",
              "    }\n",
              "\n",
              "    .dataframe tbody tr th {\n",
              "        vertical-align: top;\n",
              "    }\n",
              "\n",
              "    .dataframe thead th {\n",
              "        text-align: right;\n",
              "    }\n",
              "</style>\n",
              "<table border=\"1\" class=\"dataframe\">\n",
              "  <thead>\n",
              "    <tr style=\"text-align: right;\">\n",
              "      <th></th>\n",
              "      <th>CHR</th>\n",
              "      <th>POS</th>\n",
              "      <th>REF</th>\n",
              "      <th>ALT</th>\n",
              "      <th>P</th>\n",
              "      <th>NEG_LOG10_P</th>\n",
              "    </tr>\n",
              "  </thead>\n",
              "  <tbody>\n",
              "    <tr>\n",
              "      <th>0</th>\n",
              "      <td>22</td>\n",
              "      <td>22681765</td>\n",
              "      <td>A</td>\n",
              "      <td>G</td>\n",
              "      <td>0.838161</td>\n",
              "      <td>0.076672</td>\n",
              "    </tr>\n",
              "    <tr>\n",
              "      <th>1</th>\n",
              "      <td>22</td>\n",
              "      <td>22685340</td>\n",
              "      <td>T</td>\n",
              "      <td>C</td>\n",
              "      <td>0.451691</td>\n",
              "      <td>0.345158</td>\n",
              "    </tr>\n",
              "    <tr>\n",
              "      <th>2</th>\n",
              "      <td>22</td>\n",
              "      <td>22694313</td>\n",
              "      <td>A</td>\n",
              "      <td>G</td>\n",
              "      <td>0.991358</td>\n",
              "      <td>0.003770</td>\n",
              "    </tr>\n",
              "    <tr>\n",
              "      <th>3</th>\n",
              "      <td>22</td>\n",
              "      <td>22694382</td>\n",
              "      <td>A</td>\n",
              "      <td>G</td>\n",
              "      <td>0.991358</td>\n",
              "      <td>0.003770</td>\n",
              "    </tr>\n",
              "    <tr>\n",
              "      <th>4</th>\n",
              "      <td>22</td>\n",
              "      <td>22694486</td>\n",
              "      <td>G</td>\n",
              "      <td>A</td>\n",
              "      <td>0.388826</td>\n",
              "      <td>0.410244</td>\n",
              "    </tr>\n",
              "    <tr>\n",
              "      <th>...</th>\n",
              "      <td>...</td>\n",
              "      <td>...</td>\n",
              "      <td>...</td>\n",
              "      <td>...</td>\n",
              "      <td>...</td>\n",
              "      <td>...</td>\n",
              "    </tr>\n",
              "    <tr>\n",
              "      <th>302</th>\n",
              "      <td>22</td>\n",
              "      <td>23650987</td>\n",
              "      <td>T</td>\n",
              "      <td>G</td>\n",
              "      <td>0.686506</td>\n",
              "      <td>0.163356</td>\n",
              "    </tr>\n",
              "    <tr>\n",
              "      <th>303</th>\n",
              "      <td>22</td>\n",
              "      <td>23654436</td>\n",
              "      <td>G</td>\n",
              "      <td>A</td>\n",
              "      <td>0.443039</td>\n",
              "      <td>0.353558</td>\n",
              "    </tr>\n",
              "    <tr>\n",
              "      <th>304</th>\n",
              "      <td>22</td>\n",
              "      <td>23666379</td>\n",
              "      <td>T</td>\n",
              "      <td>G</td>\n",
              "      <td>0.934429</td>\n",
              "      <td>0.029454</td>\n",
              "    </tr>\n",
              "    <tr>\n",
              "      <th>305</th>\n",
              "      <td>22</td>\n",
              "      <td>23667731</td>\n",
              "      <td>C</td>\n",
              "      <td>T</td>\n",
              "      <td>0.756186</td>\n",
              "      <td>0.121371</td>\n",
              "    </tr>\n",
              "    <tr>\n",
              "      <th>306</th>\n",
              "      <td>22</td>\n",
              "      <td>23676895</td>\n",
              "      <td>A</td>\n",
              "      <td>G</td>\n",
              "      <td>0.832798</td>\n",
              "      <td>0.079461</td>\n",
              "    </tr>\n",
              "  </tbody>\n",
              "</table>\n",
              "<p>307 rows × 6 columns</p>\n",
              "</div>\n",
              "    <div class=\"colab-df-buttons\">\n",
              "\n",
              "  <div class=\"colab-df-container\">\n",
              "    <button class=\"colab-df-convert\" onclick=\"convertToInteractive('df-33015966-ec29-4295-8b4b-150ccbfd9b94')\"\n",
              "            title=\"Convert this dataframe to an interactive table.\"\n",
              "            style=\"display:none;\">\n",
              "\n",
              "  <svg xmlns=\"http://www.w3.org/2000/svg\" height=\"24px\" viewBox=\"0 -960 960 960\">\n",
              "    <path d=\"M120-120v-720h720v720H120Zm60-500h600v-160H180v160Zm220 220h160v-160H400v160Zm0 220h160v-160H400v160ZM180-400h160v-160H180v160Zm440 0h160v-160H620v160ZM180-180h160v-160H180v160Zm440 0h160v-160H620v160Z\"/>\n",
              "  </svg>\n",
              "    </button>\n",
              "\n",
              "  <style>\n",
              "    .colab-df-container {\n",
              "      display:flex;\n",
              "      gap: 12px;\n",
              "    }\n",
              "\n",
              "    .colab-df-convert {\n",
              "      background-color: #E8F0FE;\n",
              "      border: none;\n",
              "      border-radius: 50%;\n",
              "      cursor: pointer;\n",
              "      display: none;\n",
              "      fill: #1967D2;\n",
              "      height: 32px;\n",
              "      padding: 0 0 0 0;\n",
              "      width: 32px;\n",
              "    }\n",
              "\n",
              "    .colab-df-convert:hover {\n",
              "      background-color: #E2EBFA;\n",
              "      box-shadow: 0px 1px 2px rgba(60, 64, 67, 0.3), 0px 1px 3px 1px rgba(60, 64, 67, 0.15);\n",
              "      fill: #174EA6;\n",
              "    }\n",
              "\n",
              "    .colab-df-buttons div {\n",
              "      margin-bottom: 4px;\n",
              "    }\n",
              "\n",
              "    [theme=dark] .colab-df-convert {\n",
              "      background-color: #3B4455;\n",
              "      fill: #D2E3FC;\n",
              "    }\n",
              "\n",
              "    [theme=dark] .colab-df-convert:hover {\n",
              "      background-color: #434B5C;\n",
              "      box-shadow: 0px 1px 3px 1px rgba(0, 0, 0, 0.15);\n",
              "      filter: drop-shadow(0px 1px 2px rgba(0, 0, 0, 0.3));\n",
              "      fill: #FFFFFF;\n",
              "    }\n",
              "  </style>\n",
              "\n",
              "    <script>\n",
              "      const buttonEl =\n",
              "        document.querySelector('#df-33015966-ec29-4295-8b4b-150ccbfd9b94 button.colab-df-convert');\n",
              "      buttonEl.style.display =\n",
              "        google.colab.kernel.accessAllowed ? 'block' : 'none';\n",
              "\n",
              "      async function convertToInteractive(key) {\n",
              "        const element = document.querySelector('#df-33015966-ec29-4295-8b4b-150ccbfd9b94');\n",
              "        const dataTable =\n",
              "          await google.colab.kernel.invokeFunction('convertToInteractive',\n",
              "                                                    [key], {});\n",
              "        if (!dataTable) return;\n",
              "\n",
              "        const docLinkHtml = 'Like what you see? Visit the ' +\n",
              "          '<a target=\"_blank\" href=https://colab.research.google.com/notebooks/data_table.ipynb>data table notebook</a>'\n",
              "          + ' to learn more about interactive tables.';\n",
              "        element.innerHTML = '';\n",
              "        dataTable['output_type'] = 'display_data';\n",
              "        await google.colab.output.renderOutput(dataTable, element);\n",
              "        const docLink = document.createElement('div');\n",
              "        docLink.innerHTML = docLinkHtml;\n",
              "        element.appendChild(docLink);\n",
              "      }\n",
              "    </script>\n",
              "  </div>\n",
              "\n",
              "\n",
              "<div id=\"df-68cd4796-988e-4853-8bae-9f8841c57238\">\n",
              "  <button class=\"colab-df-quickchart\" onclick=\"quickchart('df-68cd4796-988e-4853-8bae-9f8841c57238')\"\n",
              "            title=\"Suggest charts\"\n",
              "            style=\"display:none;\">\n",
              "\n",
              "<svg xmlns=\"http://www.w3.org/2000/svg\" height=\"24px\"viewBox=\"0 0 24 24\"\n",
              "     width=\"24px\">\n",
              "    <g>\n",
              "        <path d=\"M19 3H5c-1.1 0-2 .9-2 2v14c0 1.1.9 2 2 2h14c1.1 0 2-.9 2-2V5c0-1.1-.9-2-2-2zM9 17H7v-7h2v7zm4 0h-2V7h2v10zm4 0h-2v-4h2v4z\"/>\n",
              "    </g>\n",
              "</svg>\n",
              "  </button>\n",
              "\n",
              "<style>\n",
              "  .colab-df-quickchart {\n",
              "      --bg-color: #E8F0FE;\n",
              "      --fill-color: #1967D2;\n",
              "      --hover-bg-color: #E2EBFA;\n",
              "      --hover-fill-color: #174EA6;\n",
              "      --disabled-fill-color: #AAA;\n",
              "      --disabled-bg-color: #DDD;\n",
              "  }\n",
              "\n",
              "  [theme=dark] .colab-df-quickchart {\n",
              "      --bg-color: #3B4455;\n",
              "      --fill-color: #D2E3FC;\n",
              "      --hover-bg-color: #434B5C;\n",
              "      --hover-fill-color: #FFFFFF;\n",
              "      --disabled-bg-color: #3B4455;\n",
              "      --disabled-fill-color: #666;\n",
              "  }\n",
              "\n",
              "  .colab-df-quickchart {\n",
              "    background-color: var(--bg-color);\n",
              "    border: none;\n",
              "    border-radius: 50%;\n",
              "    cursor: pointer;\n",
              "    display: none;\n",
              "    fill: var(--fill-color);\n",
              "    height: 32px;\n",
              "    padding: 0;\n",
              "    width: 32px;\n",
              "  }\n",
              "\n",
              "  .colab-df-quickchart:hover {\n",
              "    background-color: var(--hover-bg-color);\n",
              "    box-shadow: 0 1px 2px rgba(60, 64, 67, 0.3), 0 1px 3px 1px rgba(60, 64, 67, 0.15);\n",
              "    fill: var(--button-hover-fill-color);\n",
              "  }\n",
              "\n",
              "  .colab-df-quickchart-complete:disabled,\n",
              "  .colab-df-quickchart-complete:disabled:hover {\n",
              "    background-color: var(--disabled-bg-color);\n",
              "    fill: var(--disabled-fill-color);\n",
              "    box-shadow: none;\n",
              "  }\n",
              "\n",
              "  .colab-df-spinner {\n",
              "    border: 2px solid var(--fill-color);\n",
              "    border-color: transparent;\n",
              "    border-bottom-color: var(--fill-color);\n",
              "    animation:\n",
              "      spin 1s steps(1) infinite;\n",
              "  }\n",
              "\n",
              "  @keyframes spin {\n",
              "    0% {\n",
              "      border-color: transparent;\n",
              "      border-bottom-color: var(--fill-color);\n",
              "      border-left-color: var(--fill-color);\n",
              "    }\n",
              "    20% {\n",
              "      border-color: transparent;\n",
              "      border-left-color: var(--fill-color);\n",
              "      border-top-color: var(--fill-color);\n",
              "    }\n",
              "    30% {\n",
              "      border-color: transparent;\n",
              "      border-left-color: var(--fill-color);\n",
              "      border-top-color: var(--fill-color);\n",
              "      border-right-color: var(--fill-color);\n",
              "    }\n",
              "    40% {\n",
              "      border-color: transparent;\n",
              "      border-right-color: var(--fill-color);\n",
              "      border-top-color: var(--fill-color);\n",
              "    }\n",
              "    60% {\n",
              "      border-color: transparent;\n",
              "      border-right-color: var(--fill-color);\n",
              "    }\n",
              "    80% {\n",
              "      border-color: transparent;\n",
              "      border-right-color: var(--fill-color);\n",
              "      border-bottom-color: var(--fill-color);\n",
              "    }\n",
              "    90% {\n",
              "      border-color: transparent;\n",
              "      border-bottom-color: var(--fill-color);\n",
              "    }\n",
              "  }\n",
              "</style>\n",
              "\n",
              "  <script>\n",
              "    async function quickchart(key) {\n",
              "      const quickchartButtonEl =\n",
              "        document.querySelector('#' + key + ' button');\n",
              "      quickchartButtonEl.disabled = true;  // To prevent multiple clicks.\n",
              "      quickchartButtonEl.classList.add('colab-df-spinner');\n",
              "      try {\n",
              "        const charts = await google.colab.kernel.invokeFunction(\n",
              "            'suggestCharts', [key], {});\n",
              "      } catch (error) {\n",
              "        console.error('Error during call to suggestCharts:', error);\n",
              "      }\n",
              "      quickchartButtonEl.classList.remove('colab-df-spinner');\n",
              "      quickchartButtonEl.classList.add('colab-df-quickchart-complete');\n",
              "    }\n",
              "    (() => {\n",
              "      let quickchartButtonEl =\n",
              "        document.querySelector('#df-68cd4796-988e-4853-8bae-9f8841c57238 button');\n",
              "      quickchartButtonEl.style.display =\n",
              "        google.colab.kernel.accessAllowed ? 'block' : 'none';\n",
              "    })();\n",
              "  </script>\n",
              "</div>\n",
              "    </div>\n",
              "  </div>\n"
            ]
          },
          "metadata": {},
          "execution_count": 7
        }
      ]
    },
    {
      "cell_type": "code",
      "source": [
        "threshold = 0.05 / (zdf.shape[0] + cdf.shape[0] + bdf.shape[0])\n",
        "p_values = []\n",
        "for df in [zdf, bdf, cdf]:\n",
        "  p_values.extend(list(df['NEG_LOG10_P']))\n",
        "sig_cis = np.sum([1 if p < threshold else 0 for p in p_values])\n",
        "sig_cis"
      ],
      "metadata": {
        "colab": {
          "base_uri": "https://localhost:8080/"
        },
        "id": "xOpuq3yizRc5",
        "outputId": "98a997b7-441d-4b16-b124-a75b73a341db"
      },
      "execution_count": null,
      "outputs": [
        {
          "output_type": "execute_result",
          "data": {
            "text/plain": [
              "0"
            ]
          },
          "metadata": {},
          "execution_count": 11
        }
      ]
    },
    {
      "cell_type": "code",
      "source": [
        "sig_cis_relaxed = np.sum([1 if p < .05 else 0 for p in p_values])\n",
        "sig_cis_relaxed"
      ],
      "metadata": {
        "colab": {
          "base_uri": "https://localhost:8080/"
        },
        "id": "5zQl-AIX0sQ_",
        "outputId": "c0cd9857-8cc8-48c3-b209-8d85193921e8"
      },
      "execution_count": null,
      "outputs": [
        {
          "output_type": "execute_result",
          "data": {
            "text/plain": [
              "171"
            ]
          },
          "metadata": {},
          "execution_count": 14
        }
      ]
    },
    {
      "cell_type": "code",
      "source": [
        "sig_cis_relaxed = np.sum([1 if p < .01 else 0 for p in p_values])\n",
        "sig_cis_relaxed"
      ],
      "metadata": {
        "colab": {
          "base_uri": "https://localhost:8080/"
        },
        "id": "dpmt6VeT0z1O",
        "outputId": "fe13a6e8-e149-40c9-ae64-2dc2c4f86001"
      },
      "execution_count": null,
      "outputs": [
        {
          "output_type": "execute_result",
          "data": {
            "text/plain": [
              "44"
            ]
          },
          "metadata": {},
          "execution_count": 15
        }
      ]
    },
    {
      "cell_type": "markdown",
      "source": [
        "## For any one gene locus (I chose COMT), how many cis-eQTLs have LD r2 > X with the lead variant? Where X is 0.8, 0.5, 0.1\n",
        "\n"
      ],
      "metadata": {
        "id": "cc0_xIYz0dS5"
      }
    },
    {
      "cell_type": "code",
      "source": [
        "cdf.sort_values(by=['P'])"
      ],
      "metadata": {
        "colab": {
          "base_uri": "https://localhost:8080/",
          "height": 423
        },
        "id": "9IOYUuFW9m5Q",
        "outputId": "5517ac53-0c6d-4f03-aba1-234c1786d202"
      },
      "execution_count": null,
      "outputs": [
        {
          "output_type": "execute_result",
          "data": {
            "text/plain": [
              "     CHR       POS REF ALT         P  NEG_LOG10_P\n",
              "7     22  19458412   G   A  0.008391     2.076194\n",
              "33    22  19505531   T   C  0.013743     1.861912\n",
              "9     22  19467462   T   G  0.013743     1.861912\n",
              "342   22  20004704   C   T  0.013813     1.859706\n",
              "89    22  19613784   G   A  0.022777     1.642510\n",
              "..   ...       ...  ..  ..       ...          ...\n",
              "385   22  20071737   C   T  0.995907     0.001781\n",
              "184   22  19802779   T   C  0.996754     0.001412\n",
              "183   22  19800322   C   T  0.996754     0.001412\n",
              "68    22  19579962   C   A  0.998206     0.000780\n",
              "129   22  19681349   A   G  0.999656     0.000149\n",
              "\n",
              "[509 rows x 6 columns]"
            ],
            "text/html": [
              "\n",
              "  <div id=\"df-2afb63eb-500f-4aee-a93f-7f2b87da6a1a\" class=\"colab-df-container\">\n",
              "    <div>\n",
              "<style scoped>\n",
              "    .dataframe tbody tr th:only-of-type {\n",
              "        vertical-align: middle;\n",
              "    }\n",
              "\n",
              "    .dataframe tbody tr th {\n",
              "        vertical-align: top;\n",
              "    }\n",
              "\n",
              "    .dataframe thead th {\n",
              "        text-align: right;\n",
              "    }\n",
              "</style>\n",
              "<table border=\"1\" class=\"dataframe\">\n",
              "  <thead>\n",
              "    <tr style=\"text-align: right;\">\n",
              "      <th></th>\n",
              "      <th>CHR</th>\n",
              "      <th>POS</th>\n",
              "      <th>REF</th>\n",
              "      <th>ALT</th>\n",
              "      <th>P</th>\n",
              "      <th>NEG_LOG10_P</th>\n",
              "    </tr>\n",
              "  </thead>\n",
              "  <tbody>\n",
              "    <tr>\n",
              "      <th>7</th>\n",
              "      <td>22</td>\n",
              "      <td>19458412</td>\n",
              "      <td>G</td>\n",
              "      <td>A</td>\n",
              "      <td>0.008391</td>\n",
              "      <td>2.076194</td>\n",
              "    </tr>\n",
              "    <tr>\n",
              "      <th>33</th>\n",
              "      <td>22</td>\n",
              "      <td>19505531</td>\n",
              "      <td>T</td>\n",
              "      <td>C</td>\n",
              "      <td>0.013743</td>\n",
              "      <td>1.861912</td>\n",
              "    </tr>\n",
              "    <tr>\n",
              "      <th>9</th>\n",
              "      <td>22</td>\n",
              "      <td>19467462</td>\n",
              "      <td>T</td>\n",
              "      <td>G</td>\n",
              "      <td>0.013743</td>\n",
              "      <td>1.861912</td>\n",
              "    </tr>\n",
              "    <tr>\n",
              "      <th>342</th>\n",
              "      <td>22</td>\n",
              "      <td>20004704</td>\n",
              "      <td>C</td>\n",
              "      <td>T</td>\n",
              "      <td>0.013813</td>\n",
              "      <td>1.859706</td>\n",
              "    </tr>\n",
              "    <tr>\n",
              "      <th>89</th>\n",
              "      <td>22</td>\n",
              "      <td>19613784</td>\n",
              "      <td>G</td>\n",
              "      <td>A</td>\n",
              "      <td>0.022777</td>\n",
              "      <td>1.642510</td>\n",
              "    </tr>\n",
              "    <tr>\n",
              "      <th>...</th>\n",
              "      <td>...</td>\n",
              "      <td>...</td>\n",
              "      <td>...</td>\n",
              "      <td>...</td>\n",
              "      <td>...</td>\n",
              "      <td>...</td>\n",
              "    </tr>\n",
              "    <tr>\n",
              "      <th>385</th>\n",
              "      <td>22</td>\n",
              "      <td>20071737</td>\n",
              "      <td>C</td>\n",
              "      <td>T</td>\n",
              "      <td>0.995907</td>\n",
              "      <td>0.001781</td>\n",
              "    </tr>\n",
              "    <tr>\n",
              "      <th>184</th>\n",
              "      <td>22</td>\n",
              "      <td>19802779</td>\n",
              "      <td>T</td>\n",
              "      <td>C</td>\n",
              "      <td>0.996754</td>\n",
              "      <td>0.001412</td>\n",
              "    </tr>\n",
              "    <tr>\n",
              "      <th>183</th>\n",
              "      <td>22</td>\n",
              "      <td>19800322</td>\n",
              "      <td>C</td>\n",
              "      <td>T</td>\n",
              "      <td>0.996754</td>\n",
              "      <td>0.001412</td>\n",
              "    </tr>\n",
              "    <tr>\n",
              "      <th>68</th>\n",
              "      <td>22</td>\n",
              "      <td>19579962</td>\n",
              "      <td>C</td>\n",
              "      <td>A</td>\n",
              "      <td>0.998206</td>\n",
              "      <td>0.000780</td>\n",
              "    </tr>\n",
              "    <tr>\n",
              "      <th>129</th>\n",
              "      <td>22</td>\n",
              "      <td>19681349</td>\n",
              "      <td>A</td>\n",
              "      <td>G</td>\n",
              "      <td>0.999656</td>\n",
              "      <td>0.000149</td>\n",
              "    </tr>\n",
              "  </tbody>\n",
              "</table>\n",
              "<p>509 rows × 6 columns</p>\n",
              "</div>\n",
              "    <div class=\"colab-df-buttons\">\n",
              "\n",
              "  <div class=\"colab-df-container\">\n",
              "    <button class=\"colab-df-convert\" onclick=\"convertToInteractive('df-2afb63eb-500f-4aee-a93f-7f2b87da6a1a')\"\n",
              "            title=\"Convert this dataframe to an interactive table.\"\n",
              "            style=\"display:none;\">\n",
              "\n",
              "  <svg xmlns=\"http://www.w3.org/2000/svg\" height=\"24px\" viewBox=\"0 -960 960 960\">\n",
              "    <path d=\"M120-120v-720h720v720H120Zm60-500h600v-160H180v160Zm220 220h160v-160H400v160Zm0 220h160v-160H400v160ZM180-400h160v-160H180v160Zm440 0h160v-160H620v160ZM180-180h160v-160H180v160Zm440 0h160v-160H620v160Z\"/>\n",
              "  </svg>\n",
              "    </button>\n",
              "\n",
              "  <style>\n",
              "    .colab-df-container {\n",
              "      display:flex;\n",
              "      gap: 12px;\n",
              "    }\n",
              "\n",
              "    .colab-df-convert {\n",
              "      background-color: #E8F0FE;\n",
              "      border: none;\n",
              "      border-radius: 50%;\n",
              "      cursor: pointer;\n",
              "      display: none;\n",
              "      fill: #1967D2;\n",
              "      height: 32px;\n",
              "      padding: 0 0 0 0;\n",
              "      width: 32px;\n",
              "    }\n",
              "\n",
              "    .colab-df-convert:hover {\n",
              "      background-color: #E2EBFA;\n",
              "      box-shadow: 0px 1px 2px rgba(60, 64, 67, 0.3), 0px 1px 3px 1px rgba(60, 64, 67, 0.15);\n",
              "      fill: #174EA6;\n",
              "    }\n",
              "\n",
              "    .colab-df-buttons div {\n",
              "      margin-bottom: 4px;\n",
              "    }\n",
              "\n",
              "    [theme=dark] .colab-df-convert {\n",
              "      background-color: #3B4455;\n",
              "      fill: #D2E3FC;\n",
              "    }\n",
              "\n",
              "    [theme=dark] .colab-df-convert:hover {\n",
              "      background-color: #434B5C;\n",
              "      box-shadow: 0px 1px 3px 1px rgba(0, 0, 0, 0.15);\n",
              "      filter: drop-shadow(0px 1px 2px rgba(0, 0, 0, 0.3));\n",
              "      fill: #FFFFFF;\n",
              "    }\n",
              "  </style>\n",
              "\n",
              "    <script>\n",
              "      const buttonEl =\n",
              "        document.querySelector('#df-2afb63eb-500f-4aee-a93f-7f2b87da6a1a button.colab-df-convert');\n",
              "      buttonEl.style.display =\n",
              "        google.colab.kernel.accessAllowed ? 'block' : 'none';\n",
              "\n",
              "      async function convertToInteractive(key) {\n",
              "        const element = document.querySelector('#df-2afb63eb-500f-4aee-a93f-7f2b87da6a1a');\n",
              "        const dataTable =\n",
              "          await google.colab.kernel.invokeFunction('convertToInteractive',\n",
              "                                                    [key], {});\n",
              "        if (!dataTable) return;\n",
              "\n",
              "        const docLinkHtml = 'Like what you see? Visit the ' +\n",
              "          '<a target=\"_blank\" href=https://colab.research.google.com/notebooks/data_table.ipynb>data table notebook</a>'\n",
              "          + ' to learn more about interactive tables.';\n",
              "        element.innerHTML = '';\n",
              "        dataTable['output_type'] = 'display_data';\n",
              "        await google.colab.output.renderOutput(dataTable, element);\n",
              "        const docLink = document.createElement('div');\n",
              "        docLink.innerHTML = docLinkHtml;\n",
              "        element.appendChild(docLink);\n",
              "      }\n",
              "    </script>\n",
              "  </div>\n",
              "\n",
              "\n",
              "<div id=\"df-3d8de96a-2d45-45ad-b942-2ae90c0f8c56\">\n",
              "  <button class=\"colab-df-quickchart\" onclick=\"quickchart('df-3d8de96a-2d45-45ad-b942-2ae90c0f8c56')\"\n",
              "            title=\"Suggest charts\"\n",
              "            style=\"display:none;\">\n",
              "\n",
              "<svg xmlns=\"http://www.w3.org/2000/svg\" height=\"24px\"viewBox=\"0 0 24 24\"\n",
              "     width=\"24px\">\n",
              "    <g>\n",
              "        <path d=\"M19 3H5c-1.1 0-2 .9-2 2v14c0 1.1.9 2 2 2h14c1.1 0 2-.9 2-2V5c0-1.1-.9-2-2-2zM9 17H7v-7h2v7zm4 0h-2V7h2v10zm4 0h-2v-4h2v4z\"/>\n",
              "    </g>\n",
              "</svg>\n",
              "  </button>\n",
              "\n",
              "<style>\n",
              "  .colab-df-quickchart {\n",
              "      --bg-color: #E8F0FE;\n",
              "      --fill-color: #1967D2;\n",
              "      --hover-bg-color: #E2EBFA;\n",
              "      --hover-fill-color: #174EA6;\n",
              "      --disabled-fill-color: #AAA;\n",
              "      --disabled-bg-color: #DDD;\n",
              "  }\n",
              "\n",
              "  [theme=dark] .colab-df-quickchart {\n",
              "      --bg-color: #3B4455;\n",
              "      --fill-color: #D2E3FC;\n",
              "      --hover-bg-color: #434B5C;\n",
              "      --hover-fill-color: #FFFFFF;\n",
              "      --disabled-bg-color: #3B4455;\n",
              "      --disabled-fill-color: #666;\n",
              "  }\n",
              "\n",
              "  .colab-df-quickchart {\n",
              "    background-color: var(--bg-color);\n",
              "    border: none;\n",
              "    border-radius: 50%;\n",
              "    cursor: pointer;\n",
              "    display: none;\n",
              "    fill: var(--fill-color);\n",
              "    height: 32px;\n",
              "    padding: 0;\n",
              "    width: 32px;\n",
              "  }\n",
              "\n",
              "  .colab-df-quickchart:hover {\n",
              "    background-color: var(--hover-bg-color);\n",
              "    box-shadow: 0 1px 2px rgba(60, 64, 67, 0.3), 0 1px 3px 1px rgba(60, 64, 67, 0.15);\n",
              "    fill: var(--button-hover-fill-color);\n",
              "  }\n",
              "\n",
              "  .colab-df-quickchart-complete:disabled,\n",
              "  .colab-df-quickchart-complete:disabled:hover {\n",
              "    background-color: var(--disabled-bg-color);\n",
              "    fill: var(--disabled-fill-color);\n",
              "    box-shadow: none;\n",
              "  }\n",
              "\n",
              "  .colab-df-spinner {\n",
              "    border: 2px solid var(--fill-color);\n",
              "    border-color: transparent;\n",
              "    border-bottom-color: var(--fill-color);\n",
              "    animation:\n",
              "      spin 1s steps(1) infinite;\n",
              "  }\n",
              "\n",
              "  @keyframes spin {\n",
              "    0% {\n",
              "      border-color: transparent;\n",
              "      border-bottom-color: var(--fill-color);\n",
              "      border-left-color: var(--fill-color);\n",
              "    }\n",
              "    20% {\n",
              "      border-color: transparent;\n",
              "      border-left-color: var(--fill-color);\n",
              "      border-top-color: var(--fill-color);\n",
              "    }\n",
              "    30% {\n",
              "      border-color: transparent;\n",
              "      border-left-color: var(--fill-color);\n",
              "      border-top-color: var(--fill-color);\n",
              "      border-right-color: var(--fill-color);\n",
              "    }\n",
              "    40% {\n",
              "      border-color: transparent;\n",
              "      border-right-color: var(--fill-color);\n",
              "      border-top-color: var(--fill-color);\n",
              "    }\n",
              "    60% {\n",
              "      border-color: transparent;\n",
              "      border-right-color: var(--fill-color);\n",
              "    }\n",
              "    80% {\n",
              "      border-color: transparent;\n",
              "      border-right-color: var(--fill-color);\n",
              "      border-bottom-color: var(--fill-color);\n",
              "    }\n",
              "    90% {\n",
              "      border-color: transparent;\n",
              "      border-bottom-color: var(--fill-color);\n",
              "    }\n",
              "  }\n",
              "</style>\n",
              "\n",
              "  <script>\n",
              "    async function quickchart(key) {\n",
              "      const quickchartButtonEl =\n",
              "        document.querySelector('#' + key + ' button');\n",
              "      quickchartButtonEl.disabled = true;  // To prevent multiple clicks.\n",
              "      quickchartButtonEl.classList.add('colab-df-spinner');\n",
              "      try {\n",
              "        const charts = await google.colab.kernel.invokeFunction(\n",
              "            'suggestCharts', [key], {});\n",
              "      } catch (error) {\n",
              "        console.error('Error during call to suggestCharts:', error);\n",
              "      }\n",
              "      quickchartButtonEl.classList.remove('colab-df-spinner');\n",
              "      quickchartButtonEl.classList.add('colab-df-quickchart-complete');\n",
              "    }\n",
              "    (() => {\n",
              "      let quickchartButtonEl =\n",
              "        document.querySelector('#df-3d8de96a-2d45-45ad-b942-2ae90c0f8c56 button');\n",
              "      quickchartButtonEl.style.display =\n",
              "        google.colab.kernel.accessAllowed ? 'block' : 'none';\n",
              "    })();\n",
              "  </script>\n",
              "</div>\n",
              "    </div>\n",
              "  </div>\n"
            ]
          },
          "metadata": {},
          "execution_count": 36
        }
      ]
    },
    {
      "cell_type": "code",
      "source": [
        "lead_variant_snp_index = make_summary_stats(\"ENSG00000093010\", 22,\"COMT\")\n",
        "lead_variant_snp_index"
      ],
      "metadata": {
        "colab": {
          "base_uri": "https://localhost:8080/",
          "height": 596
        },
        "id": "HovG4VOl3eju",
        "outputId": "b7fb1246-aed1-4df6-f038-3df4166cecdc"
      },
      "execution_count": null,
      "outputs": [
        {
          "output_type": "stream",
          "name": "stderr",
          "text": [
            "Mapping files: 100%|██████████| 3/3 [00:00<00:00, 128.18it/s]\n",
            "<ipython-input-19-71ba8c0a8a2f>:26: FutureWarning: Passing a set as an indexer is deprecated and will raise in a future version. Use a list instead.\n",
            "  expression_df_filtered = bcr_vals[common_ids]\n"
          ]
        },
        {
          "output_type": "display_data",
          "data": {
            "text/plain": [
              "<Figure size 1000x500 with 1 Axes>"
            ],
            "image/png": "[encoded data removed]"
          },
          "metadata": {}
        },
        {
          "output_type": "execute_result",
          "data": {
            "text/plain": [
              "258"
            ]
          },
          "metadata": {},
          "execution_count": 21
        }
      ]
    },
    {
      "cell_type": "code",
      "source": [
        "(bim, fam, bed) = read_plink(f'/content/drive/My Drive/Colab Notebooks/1000G.EUR.22.COMT')"
      ],
      "metadata": {
        "colab": {
          "base_uri": "https://localhost:8080/"
        },
        "id": "Yxl9eVof5veI",
        "outputId": "613f54a0-fad9-440b-9005-fed8f116ae09"
      },
      "execution_count": null,
      "outputs": [
        {
          "output_type": "stream",
          "name": "stderr",
          "text": [
            "Mapping files: 100%|██████████| 3/3 [00:00<00:00, 151.81it/s]\n"
          ]
        }
      ]
    },
    {
      "cell_type": "code",
      "source": [
        "bim"
      ],
      "metadata": {
        "colab": {
          "base_uri": "https://localhost:8080/",
          "height": 423
        },
        "id": "URDUzk6r9Whg",
        "outputId": "dd642f8b-c00a-486e-a4af-03d30c8af838"
      },
      "execution_count": null,
      "outputs": [
        {
          "output_type": "execute_result",
          "data": {
            "text/plain": [
              "    chrom        snp         cm       pos a0 a1    i\n",
              "0      22  rs5748218   9.859647  19451186  C  A    0\n",
              "1      22  rs2072055   9.859655  19453275  G  A    1\n",
              "2      22  rs4493360   9.859661  19454787  T  C    2\n",
              "3      22  rs5746742   9.859664  19455376  C  T    3\n",
              "4      22   rs756658   9.859665  19455836  A  G    4\n",
              "..    ...        ...        ...       ... .. ..  ...\n",
              "504    22  rs4425183  12.138583  20295420  T  G  504\n",
              "505    22  rs4995261  12.139334  20296540  C  T  505\n",
              "506    22  rs2280117  12.141246  20306993  T  C  506\n",
              "507    22  rs1210829  12.152501  20308800  A  C  507\n",
              "508    22  rs9617876  12.288007  20330744  C  T  508\n",
              "\n",
              "[509 rows x 7 columns]"
            ],
            "text/html": [
              "\n",
              "  <div id=\"df-90a3eca6-2aa0-4be2-85dd-6a292f45b5ff\" class=\"colab-df-container\">\n",
              "    <div>\n",
              "<style scoped>\n",
              "    .dataframe tbody tr th:only-of-type {\n",
              "        vertical-align: middle;\n",
              "    }\n",
              "\n",
              "    .dataframe tbody tr th {\n",
              "        vertical-align: top;\n",
              "    }\n",
              "\n",
              "    .dataframe thead th {\n",
              "        text-align: right;\n",
              "    }\n",
              "</style>\n",
              "<table border=\"1\" class=\"dataframe\">\n",
              "  <thead>\n",
              "    <tr style=\"text-align: right;\">\n",
              "      <th></th>\n",
              "      <th>chrom</th>\n",
              "      <th>snp</th>\n",
              "      <th>cm</th>\n",
              "      <th>pos</th>\n",
              "      <th>a0</th>\n",
              "      <th>a1</th>\n",
              "      <th>i</th>\n",
              "    </tr>\n",
              "  </thead>\n",
              "  <tbody>\n",
              "    <tr>\n",
              "      <th>0</th>\n",
              "      <td>22</td>\n",
              "      <td>rs5748218</td>\n",
              "      <td>9.859647</td>\n",
              "      <td>19451186</td>\n",
              "      <td>C</td>\n",
              "      <td>A</td>\n",
              "      <td>0</td>\n",
              "    </tr>\n",
              "    <tr>\n",
              "      <th>1</th>\n",
              "      <td>22</td>\n",
              "      <td>rs2072055</td>\n",
              "      <td>9.859655</td>\n",
              "      <td>19453275</td>\n",
              "      <td>G</td>\n",
              "      <td>A</td>\n",
              "      <td>1</td>\n",
              "    </tr>\n",
              "    <tr>\n",
              "      <th>2</th>\n",
              "      <td>22</td>\n",
              "      <td>rs4493360</td>\n",
              "      <td>9.859661</td>\n",
              "      <td>19454787</td>\n",
              "      <td>T</td>\n",
              "      <td>C</td>\n",
              "      <td>2</td>\n",
              "    </tr>\n",
              "    <tr>\n",
              "      <th>3</th>\n",
              "      <td>22</td>\n",
              "      <td>rs5746742</td>\n",
              "      <td>9.859664</td>\n",
              "      <td>19455376</td>\n",
              "      <td>C</td>\n",
              "      <td>T</td>\n",
              "      <td>3</td>\n",
              "    </tr>\n",
              "    <tr>\n",
              "      <th>4</th>\n",
              "      <td>22</td>\n",
              "      <td>rs756658</td>\n",
              "      <td>9.859665</td>\n",
              "      <td>19455836</td>\n",
              "      <td>A</td>\n",
              "      <td>G</td>\n",
              "      <td>4</td>\n",
              "    </tr>\n",
              "    <tr>\n",
              "      <th>...</th>\n",
              "      <td>...</td>\n",
              "      <td>...</td>\n",
              "      <td>...</td>\n",
              "      <td>...</td>\n",
              "      <td>...</td>\n",
              "      <td>...</td>\n",
              "      <td>...</td>\n",
              "    </tr>\n",
              "    <tr>\n",
              "      <th>504</th>\n",
              "      <td>22</td>\n",
              "      <td>rs4425183</td>\n",
              "      <td>12.138583</td>\n",
              "      <td>20295420</td>\n",
              "      <td>T</td>\n",
              "      <td>G</td>\n",
              "      <td>504</td>\n",
              "    </tr>\n",
              "    <tr>\n",
              "      <th>505</th>\n",
              "      <td>22</td>\n",
              "      <td>rs4995261</td>\n",
              "      <td>12.139334</td>\n",
              "      <td>20296540</td>\n",
              "      <td>C</td>\n",
              "      <td>T</td>\n",
              "      <td>505</td>\n",
              "    </tr>\n",
              "    <tr>\n",
              "      <th>506</th>\n",
              "      <td>22</td>\n",
              "      <td>rs2280117</td>\n",
              "      <td>12.141246</td>\n",
              "      <td>20306993</td>\n",
              "      <td>T</td>\n",
              "      <td>C</td>\n",
              "      <td>506</td>\n",
              "    </tr>\n",
              "    <tr>\n",
              "      <th>507</th>\n",
              "      <td>22</td>\n",
              "      <td>rs1210829</td>\n",
              "      <td>12.152501</td>\n",
              "      <td>20308800</td>\n",
              "      <td>A</td>\n",
              "      <td>C</td>\n",
              "      <td>507</td>\n",
              "    </tr>\n",
              "    <tr>\n",
              "      <th>508</th>\n",
              "      <td>22</td>\n",
              "      <td>rs9617876</td>\n",
              "      <td>12.288007</td>\n",
              "      <td>20330744</td>\n",
              "      <td>C</td>\n",
              "      <td>T</td>\n",
              "      <td>508</td>\n",
              "    </tr>\n",
              "  </tbody>\n",
              "</table>\n",
              "<p>509 rows × 7 columns</p>\n",
              "</div>\n",
              "    <div class=\"colab-df-buttons\">\n",
              "\n",
              "  <div class=\"colab-df-container\">\n",
              "    <button class=\"colab-df-convert\" onclick=\"convertToInteractive('df-90a3eca6-2aa0-4be2-85dd-6a292f45b5ff')\"\n",
              "            title=\"Convert this dataframe to an interactive table.\"\n",
              "            style=\"display:none;\">\n",
              "\n",
              "  <svg xmlns=\"http://www.w3.org/2000/svg\" height=\"24px\" viewBox=\"0 -960 960 960\">\n",
              "    <path d=\"M120-120v-720h720v720H120Zm60-500h600v-160H180v160Zm220 220h160v-160H400v160Zm0 220h160v-160H400v160ZM180-400h160v-160H180v160Zm440 0h160v-160H620v160ZM180-180h160v-160H180v160Zm440 0h160v-160H620v160Z\"/>\n",
              "  </svg>\n",
              "    </button>\n",
              "\n",
              "  <style>\n",
              "    .colab-df-container {\n",
              "      display:flex;\n",
              "      gap: 12px;\n",
              "    }\n",
              "\n",
              "    .colab-df-convert {\n",
              "      background-color: #E8F0FE;\n",
              "      border: none;\n",
              "      border-radius: 50%;\n",
              "      cursor: pointer;\n",
              "      display: none;\n",
              "      fill: #1967D2;\n",
              "      height: 32px;\n",
              "      padding: 0 0 0 0;\n",
              "      width: 32px;\n",
              "    }\n",
              "\n",
              "    .colab-df-convert:hover {\n",
              "      background-color: #E2EBFA;\n",
              "      box-shadow: 0px 1px 2px rgba(60, 64, 67, 0.3), 0px 1px 3px 1px rgba(60, 64, 67, 0.15);\n",
              "      fill: #174EA6;\n",
              "    }\n",
              "\n",
              "    .colab-df-buttons div {\n",
              "      margin-bottom: 4px;\n",
              "    }\n",
              "\n",
              "    [theme=dark] .colab-df-convert {\n",
              "      background-color: #3B4455;\n",
              "      fill: #D2E3FC;\n",
              "    }\n",
              "\n",
              "    [theme=dark] .colab-df-convert:hover {\n",
              "      background-color: #434B5C;\n",
              "      box-shadow: 0px 1px 3px 1px rgba(0, 0, 0, 0.15);\n",
              "      filter: drop-shadow(0px 1px 2px rgba(0, 0, 0, 0.3));\n",
              "      fill: #FFFFFF;\n",
              "    }\n",
              "  </style>\n",
              "\n",
              "    <script>\n",
              "      const buttonEl =\n",
              "        document.querySelector('#df-90a3eca6-2aa0-4be2-85dd-6a292f45b5ff button.colab-df-convert');\n",
              "      buttonEl.style.display =\n",
              "        google.colab.kernel.accessAllowed ? 'block' : 'none';\n",
              "\n",
              "      async function convertToInteractive(key) {\n",
              "        const element = document.querySelector('#df-90a3eca6-2aa0-4be2-85dd-6a292f45b5ff');\n",
              "        const dataTable =\n",
              "          await google.colab.kernel.invokeFunction('convertToInteractive',\n",
              "                                                    [key], {});\n",
              "        if (!dataTable) return;\n",
              "\n",
              "        const docLinkHtml = 'Like what you see? Visit the ' +\n",
              "          '<a target=\"_blank\" href=https://colab.research.google.com/notebooks/data_table.ipynb>data table notebook</a>'\n",
              "          + ' to learn more about interactive tables.';\n",
              "        element.innerHTML = '';\n",
              "        dataTable['output_type'] = 'display_data';\n",
              "        await google.colab.output.renderOutput(dataTable, element);\n",
              "        const docLink = document.createElement('div');\n",
              "        docLink.innerHTML = docLinkHtml;\n",
              "        element.appendChild(docLink);\n",
              "      }\n",
              "    </script>\n",
              "  </div>\n",
              "\n",
              "\n",
              "<div id=\"df-464c9aa9-d511-4535-a9f2-2e927e4faaed\">\n",
              "  <button class=\"colab-df-quickchart\" onclick=\"quickchart('df-464c9aa9-d511-4535-a9f2-2e927e4faaed')\"\n",
              "            title=\"Suggest charts\"\n",
              "            style=\"display:none;\">\n",
              "\n",
              "<svg xmlns=\"http://www.w3.org/2000/svg\" height=\"24px\"viewBox=\"0 0 24 24\"\n",
              "     width=\"24px\">\n",
              "    <g>\n",
              "        <path d=\"M19 3H5c-1.1 0-2 .9-2 2v14c0 1.1.9 2 2 2h14c1.1 0 2-.9 2-2V5c0-1.1-.9-2-2-2zM9 17H7v-7h2v7zm4 0h-2V7h2v10zm4 0h-2v-4h2v4z\"/>\n",
              "    </g>\n",
              "</svg>\n",
              "  </button>\n",
              "\n",
              "<style>\n",
              "  .colab-df-quickchart {\n",
              "      --bg-color: #E8F0FE;\n",
              "      --fill-color: #1967D2;\n",
              "      --hover-bg-color: #E2EBFA;\n",
              "      --hover-fill-color: #174EA6;\n",
              "      --disabled-fill-color: #AAA;\n",
              "      --disabled-bg-color: #DDD;\n",
              "  }\n",
              "\n",
              "  [theme=dark] .colab-df-quickchart {\n",
              "      --bg-color: #3B4455;\n",
              "      --fill-color: #D2E3FC;\n",
              "      --hover-bg-color: #434B5C;\n",
              "      --hover-fill-color: #FFFFFF;\n",
              "      --disabled-bg-color: #3B4455;\n",
              "      --disabled-fill-color: #666;\n",
              "  }\n",
              "\n",
              "  .colab-df-quickchart {\n",
              "    background-color: var(--bg-color);\n",
              "    border: none;\n",
              "    border-radius: 50%;\n",
              "    cursor: pointer;\n",
              "    display: none;\n",
              "    fill: var(--fill-color);\n",
              "    height: 32px;\n",
              "    padding: 0;\n",
              "    width: 32px;\n",
              "  }\n",
              "\n",
              "  .colab-df-quickchart:hover {\n",
              "    background-color: var(--hover-bg-color);\n",
              "    box-shadow: 0 1px 2px rgba(60, 64, 67, 0.3), 0 1px 3px 1px rgba(60, 64, 67, 0.15);\n",
              "    fill: var(--button-hover-fill-color);\n",
              "  }\n",
              "\n",
              "  .colab-df-quickchart-complete:disabled,\n",
              "  .colab-df-quickchart-complete:disabled:hover {\n",
              "    background-color: var(--disabled-bg-color);\n",
              "    fill: var(--disabled-fill-color);\n",
              "    box-shadow: none;\n",
              "  }\n",
              "\n",
              "  .colab-df-spinner {\n",
              "    border: 2px solid var(--fill-color);\n",
              "    border-color: transparent;\n",
              "    border-bottom-color: var(--fill-color);\n",
              "    animation:\n",
              "      spin 1s steps(1) infinite;\n",
              "  }\n",
              "\n",
              "  @keyframes spin {\n",
              "    0% {\n",
              "      border-color: transparent;\n",
              "      border-bottom-color: var(--fill-color);\n",
              "      border-left-color: var(--fill-color);\n",
              "    }\n",
              "    20% {\n",
              "      border-color: transparent;\n",
              "      border-left-color: var(--fill-color);\n",
              "      border-top-color: var(--fill-color);\n",
              "    }\n",
              "    30% {\n",
              "      border-color: transparent;\n",
              "      border-left-color: var(--fill-color);\n",
              "      border-top-color: var(--fill-color);\n",
              "      border-right-color: var(--fill-color);\n",
              "    }\n",
              "    40% {\n",
              "      border-color: transparent;\n",
              "      border-right-color: var(--fill-color);\n",
              "      border-top-color: var(--fill-color);\n",
              "    }\n",
              "    60% {\n",
              "      border-color: transparent;\n",
              "      border-right-color: var(--fill-color);\n",
              "    }\n",
              "    80% {\n",
              "      border-color: transparent;\n",
              "      border-right-color: var(--fill-color);\n",
              "      border-bottom-color: var(--fill-color);\n",
              "    }\n",
              "    90% {\n",
              "      border-color: transparent;\n",
              "      border-bottom-color: var(--fill-color);\n",
              "    }\n",
              "  }\n",
              "</style>\n",
              "\n",
              "  <script>\n",
              "    async function quickchart(key) {\n",
              "      const quickchartButtonEl =\n",
              "        document.querySelector('#' + key + ' button');\n",
              "      quickchartButtonEl.disabled = true;  // To prevent multiple clicks.\n",
              "      quickchartButtonEl.classList.add('colab-df-spinner');\n",
              "      try {\n",
              "        const charts = await google.colab.kernel.invokeFunction(\n",
              "            'suggestCharts', [key], {});\n",
              "      } catch (error) {\n",
              "        console.error('Error during call to suggestCharts:', error);\n",
              "      }\n",
              "      quickchartButtonEl.classList.remove('colab-df-spinner');\n",
              "      quickchartButtonEl.classList.add('colab-df-quickchart-complete');\n",
              "    }\n",
              "    (() => {\n",
              "      let quickchartButtonEl =\n",
              "        document.querySelector('#df-464c9aa9-d511-4535-a9f2-2e927e4faaed button');\n",
              "      quickchartButtonEl.style.display =\n",
              "        google.colab.kernel.accessAllowed ? 'block' : 'none';\n",
              "    })();\n",
              "  </script>\n",
              "</div>\n",
              "    </div>\n",
              "  </div>\n"
            ]
          },
          "metadata": {},
          "execution_count": 32
        }
      ]
    },
    {
      "cell_type": "code",
      "source": [
        "lead_snp = bim.iloc[lead_variant_snp_index]['snp']\n",
        "lead_snp"
      ],
      "metadata": {
        "colab": {
          "base_uri": "https://localhost:8080/",
          "height": 36
        },
        "id": "eVgYvwly5pDL",
        "outputId": "1267eb1c-f568-4fa1-b9f4-2a1c1114fc21"
      },
      "execution_count": null,
      "outputs": [
        {
          "output_type": "execute_result",
          "data": {
            "text/plain": [
              "'rs17210001'"
            ],
            "application/vnd.google.colaboratory.intrinsic+json": {
              "type": "string"
            }
          },
          "metadata": {},
          "execution_count": 29
        }
      ]
    },
    {
      "cell_type": "code",
      "source": [
        "bim.iloc[34]['snp']"
      ],
      "metadata": {
        "colab": {
          "base_uri": "https://localhost:8080/",
          "height": 36
        },
        "id": "oiXOi7_x95dY",
        "outputId": "04f33193-2734-4a24-d312-28e7d688389f"
      },
      "execution_count": null,
      "outputs": [
        {
          "output_type": "execute_result",
          "data": {
            "text/plain": [
              "'rs2073760'"
            ],
            "application/vnd.google.colaboratory.intrinsic+json": {
              "type": "string"
            }
          },
          "metadata": {},
          "execution_count": 37
        }
      ]
    },
    {
      "cell_type": "markdown",
      "source": [
        "\n",
        "Threw an error\n",
        "```\n",
        "plink --bfile 1000G.EUR.22.COMT --ld rs17210001 --ld-window-kb 500000 --ld-window-r2 0 --out ld_comt\n",
        "\n",
        "```\n",
        "I did this to get all the LDs between all pairs of SNPs in this window and ill filter them to get the snps that are my lead snp and then do the threshold\n",
        "\n",
        "```\n",
        "plink --bfile 1000G.EUR.22.COMT --r2 --ld-window-kb 500 --ld-window-r2 0 --out ld_comt\n",
        "\n",
        "```\n",
        "\n",
        "\n"
      ],
      "metadata": {
        "id": "00OZe5Hm6IJx"
      }
    },
    {
      "cell_type": "code",
      "source": [
        "ldf = pd.read_csv(\"/content/drive/My Drive/Colab Notebooks/ld_comt.ld\", delim_whitespace=True)\n",
        "ldf"
      ],
      "metadata": {
        "id": "olhTRPpc78D2"
      },
      "execution_count": null,
      "outputs": []
    },
    {
      "cell_type": "code",
      "source": [
        "for lead_variant in [7,33,9,342,89]:\n",
        "  lead_var_snp = bim.iloc[lead_variant]['snp']\n",
        "  filtered_ld = ldf[(ldf['SNP_A'] == lead_var_snp) | (ldf['SNP_B'] == lead_var_snp)]\n",
        "  thresholds = [0.8, 0.5, 0.1]\n",
        "  print(lead_var_snp)\n",
        "  for thresh in thresholds:\n",
        "    count = filtered_ld[filtered_ld['R2'] > thresh].shape[0]\n",
        "    print(f\"Number of SNPs with LD R2 > {thresh}: {count}\")\n"
      ],
      "metadata": {
        "colab": {
          "base_uri": "https://localhost:8080/"
        },
        "id": "4n2ItkAA8gvw",
        "outputId": "fb057e93-5312-4683-bf91-08c443e8c966"
      },
      "execution_count": null,
      "outputs": [
        {
          "output_type": "stream",
          "name": "stdout",
          "text": [
            "rs17811336\n",
            "Number of SNPs with LD R2 > 0.8: 0\n",
            "Number of SNPs with LD R2 > 0.5: 1\n",
            "Number of SNPs with LD R2 > 0.1: 10\n",
            "rs13447284\n",
            "Number of SNPs with LD R2 > 0.8: 0\n",
            "Number of SNPs with LD R2 > 0.5: 0\n",
            "Number of SNPs with LD R2 > 0.1: 2\n",
            "rs13447182\n",
            "Number of SNPs with LD R2 > 0.8: 0\n",
            "Number of SNPs with LD R2 > 0.5: 0\n",
            "Number of SNPs with LD R2 > 0.1: 4\n",
            "rs2531716\n",
            "Number of SNPs with LD R2 > 0.8: 0\n",
            "Number of SNPs with LD R2 > 0.5: 1\n",
            "Number of SNPs with LD R2 > 0.1: 10\n",
            "rs5993743\n",
            "Number of SNPs with LD R2 > 0.8: 0\n",
            "Number of SNPs with LD R2 > 0.5: 1\n",
            "Number of SNPs with LD R2 > 0.1: 2\n"
          ]
        }
      ]
    },
    {
      "cell_type": "markdown",
      "source": [
        "NOTE: the bigger r squared = mor complex disease"
      ],
      "metadata": {
        "id": "xz2p_d2G0dOo"
      }
    },
    {
      "cell_type": "code",
      "source": [],
      "metadata": {
        "id": "6P4QlC8xSpCz"
      },
      "execution_count": null,
      "outputs": []
    }
  ]
}