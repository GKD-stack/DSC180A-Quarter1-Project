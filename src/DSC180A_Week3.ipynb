{
  "cells": [
    {
      "cell_type": "markdown",
      "metadata": {
        "id": "view-in-github",
        "colab_type": "text"
      },
      "source": [
        "<a href=\"https://colab.research.google.com/github/GKD-stack/DSC180A-Methodology-1/blob/main/DSC180A_Week3.ipynb\" target=\"_parent\"><img src=\"https://colab.research.google.com/assets/colab-badge.svg\" alt=\"Open In Colab\"/></a>"
      ]
    },
    {
      "cell_type": "markdown",
      "metadata": {
        "id": "kBbqHvBVCZH9"
      },
      "source": [
        "# Question 1"
      ]
    },
    {
      "cell_type": "code",
      "execution_count": null,
      "metadata": {
        "id": "PQdskbd_CZIK"
      },
      "outputs": [],
      "source": [
        "import pandas as pd\n",
        "\n",
        "all_counts = {}\n",
        "\n",
        "for i in range(1,23):\n",
        "    df = pd.read_csv(f'LDREF/chr{i}_freq.afreq', delimiter='\\t')\n",
        "    df['MAF'] = df['ALT_FREQS']\n",
        "    df['Frequency_Category'] = 'Rare'  # Start with 'Rare'\n",
        "    df.loc[df['MAF'] > .05, 'Frequency_Category'] = 'Common'\n",
        "    df.loc[(df['MAF'] > 0.01) & (df['MAF'] <= .05), 'Frequency_Category'] = 'Low Frequency'\n",
        "    all_counts[i] = df.groupby(\"Frequency_Category\").count()[['MAF']]\n",
        "\n"
      ]
    },
    {
      "cell_type": "code",
      "execution_count": null,
      "metadata": {
        "id": "rgfzy48yCZIP",
        "outputId": "7d3080be-4100-43c5-c8a7-0a573cfc9ee4"
      },
      "outputs": [
        {
          "data": {
            "text/html": [
              "<div>\n",
              "<style scoped>\n",
              "    .dataframe tbody tr th:only-of-type {\n",
              "        vertical-align: middle;\n",
              "    }\n",
              "\n",
              "    .dataframe tbody tr th {\n",
              "        vertical-align: top;\n",
              "    }\n",
              "\n",
              "    .dataframe thead th {\n",
              "        text-align: right;\n",
              "    }\n",
              "</style>\n",
              "<table border=\"1\" class=\"dataframe\">\n",
              "  <thead>\n",
              "    <tr style=\"text-align: right;\">\n",
              "      <th></th>\n",
              "      <th>#CHROM</th>\n",
              "      <th>ID</th>\n",
              "      <th>REF</th>\n",
              "      <th>ALT</th>\n",
              "      <th>PROVISIONAL_REF?</th>\n",
              "      <th>ALT_FREQS</th>\n",
              "      <th>OBS_CT</th>\n",
              "      <th>MAF</th>\n",
              "      <th>Frequency_Category</th>\n",
              "    </tr>\n",
              "  </thead>\n",
              "  <tbody>\n",
              "    <tr>\n",
              "      <th>0</th>\n",
              "      <td>22</td>\n",
              "      <td>rs9617528</td>\n",
              "      <td>T</td>\n",
              "      <td>C</td>\n",
              "      <td>Y</td>\n",
              "      <td>0.259714</td>\n",
              "      <td>978</td>\n",
              "      <td>0.259714</td>\n",
              "      <td>Common</td>\n",
              "    </tr>\n",
              "    <tr>\n",
              "      <th>1</th>\n",
              "      <td>22</td>\n",
              "      <td>rs4911642</td>\n",
              "      <td>T</td>\n",
              "      <td>C</td>\n",
              "      <td>Y</td>\n",
              "      <td>0.143149</td>\n",
              "      <td>978</td>\n",
              "      <td>0.143149</td>\n",
              "      <td>Common</td>\n",
              "    </tr>\n",
              "    <tr>\n",
              "      <th>2</th>\n",
              "      <td>22</td>\n",
              "      <td>rs7287144</td>\n",
              "      <td>A</td>\n",
              "      <td>G</td>\n",
              "      <td>Y</td>\n",
              "      <td>0.309816</td>\n",
              "      <td>978</td>\n",
              "      <td>0.309816</td>\n",
              "      <td>Common</td>\n",
              "    </tr>\n",
              "    <tr>\n",
              "      <th>3</th>\n",
              "      <td>22</td>\n",
              "      <td>rs5748662</td>\n",
              "      <td>G</td>\n",
              "      <td>A</td>\n",
              "      <td>Y</td>\n",
              "      <td>0.302658</td>\n",
              "      <td>978</td>\n",
              "      <td>0.302658</td>\n",
              "      <td>Common</td>\n",
              "    </tr>\n",
              "    <tr>\n",
              "      <th>4</th>\n",
              "      <td>22</td>\n",
              "      <td>rs5994034</td>\n",
              "      <td>C</td>\n",
              "      <td>T</td>\n",
              "      <td>Y</td>\n",
              "      <td>0.109407</td>\n",
              "      <td>978</td>\n",
              "      <td>0.109407</td>\n",
              "      <td>Common</td>\n",
              "    </tr>\n",
              "    <tr>\n",
              "      <th>...</th>\n",
              "      <td>...</td>\n",
              "      <td>...</td>\n",
              "      <td>...</td>\n",
              "      <td>...</td>\n",
              "      <td>...</td>\n",
              "      <td>...</td>\n",
              "      <td>...</td>\n",
              "      <td>...</td>\n",
              "      <td>...</td>\n",
              "    </tr>\n",
              "    <tr>\n",
              "      <th>17484</th>\n",
              "      <td>22</td>\n",
              "      <td>rs13056621</td>\n",
              "      <td>G</td>\n",
              "      <td>A</td>\n",
              "      <td>Y</td>\n",
              "      <td>0.145194</td>\n",
              "      <td>978</td>\n",
              "      <td>0.145194</td>\n",
              "      <td>Common</td>\n",
              "    </tr>\n",
              "    <tr>\n",
              "      <th>17485</th>\n",
              "      <td>22</td>\n",
              "      <td>rs3865766</td>\n",
              "      <td>C</td>\n",
              "      <td>T</td>\n",
              "      <td>Y</td>\n",
              "      <td>0.438650</td>\n",
              "      <td>978</td>\n",
              "      <td>0.438650</td>\n",
              "      <td>Common</td>\n",
              "    </tr>\n",
              "    <tr>\n",
              "      <th>17486</th>\n",
              "      <td>22</td>\n",
              "      <td>rs3888396</td>\n",
              "      <td>T</td>\n",
              "      <td>C</td>\n",
              "      <td>Y</td>\n",
              "      <td>0.156442</td>\n",
              "      <td>978</td>\n",
              "      <td>0.156442</td>\n",
              "      <td>Common</td>\n",
              "    </tr>\n",
              "    <tr>\n",
              "      <th>17487</th>\n",
              "      <td>22</td>\n",
              "      <td>rs2238837</td>\n",
              "      <td>A</td>\n",
              "      <td>C</td>\n",
              "      <td>Y</td>\n",
              "      <td>0.323108</td>\n",
              "      <td>978</td>\n",
              "      <td>0.323108</td>\n",
              "      <td>Common</td>\n",
              "    </tr>\n",
              "    <tr>\n",
              "      <th>17488</th>\n",
              "      <td>22</td>\n",
              "      <td>rs28729663</td>\n",
              "      <td>G</td>\n",
              "      <td>A</td>\n",
              "      <td>Y</td>\n",
              "      <td>0.159509</td>\n",
              "      <td>978</td>\n",
              "      <td>0.159509</td>\n",
              "      <td>Common</td>\n",
              "    </tr>\n",
              "  </tbody>\n",
              "</table>\n",
              "<p>17489 rows × 9 columns</p>\n",
              "</div>"
            ],
            "text/plain": [
              "       #CHROM          ID REF ALT PROVISIONAL_REF?  ALT_FREQS  OBS_CT  \\\n",
              "0          22   rs9617528   T   C                Y   0.259714     978   \n",
              "1          22   rs4911642   T   C                Y   0.143149     978   \n",
              "2          22   rs7287144   A   G                Y   0.309816     978   \n",
              "3          22   rs5748662   G   A                Y   0.302658     978   \n",
              "4          22   rs5994034   C   T                Y   0.109407     978   \n",
              "...       ...         ...  ..  ..              ...        ...     ...   \n",
              "17484      22  rs13056621   G   A                Y   0.145194     978   \n",
              "17485      22   rs3865766   C   T                Y   0.438650     978   \n",
              "17486      22   rs3888396   T   C                Y   0.156442     978   \n",
              "17487      22   rs2238837   A   C                Y   0.323108     978   \n",
              "17488      22  rs28729663   G   A                Y   0.159509     978   \n",
              "\n",
              "            MAF Frequency_Category  \n",
              "0      0.259714             Common  \n",
              "1      0.143149             Common  \n",
              "2      0.309816             Common  \n",
              "3      0.302658             Common  \n",
              "4      0.109407             Common  \n",
              "...         ...                ...  \n",
              "17484  0.145194             Common  \n",
              "17485  0.438650             Common  \n",
              "17486  0.156442             Common  \n",
              "17487  0.323108             Common  \n",
              "17488  0.159509             Common  \n",
              "\n",
              "[17489 rows x 9 columns]"
            ]
          },
          "execution_count": 18,
          "metadata": {},
          "output_type": "execute_result"
        }
      ],
      "source": [
        "df"
      ]
    },
    {
      "cell_type": "markdown",
      "metadata": {
        "id": "HCZAhVicCZIQ"
      },
      "source": [
        "# Question 2"
      ]
    },
    {
      "cell_type": "markdown",
      "metadata": {
        "id": "oZ-WvdQ5CZIQ"
      },
      "source": [
        "chr1 1100000 mygene 0 +\n",
        "\n",
        "plink2 --bfile LDREF/1000G.EUR.1 --extract range agrn_coord.txt --out 1000G.EUR.1.AGRN --make-bed\n",
        "\n",
        "\n",
        "plink2 --bfile $1000G.EUR.1.maf0.05 --extract range gene_coord.txt --out 1000G.EUR.1.GeneX --make-bed"
      ]
    },
    {
      "cell_type": "code",
      "execution_count": null,
      "metadata": {
        "id": "suYLeRGJCZIQ"
      },
      "outputs": [],
      "source": [
        "import pandas as pd\n",
        "expression_data = pd.read_csv('exp.txt', sep='\\t', header=None)"
      ]
    },
    {
      "cell_type": "code",
      "execution_count": null,
      "metadata": {
        "id": "Eza1iAYUCZIQ"
      },
      "outputs": [],
      "source": [
        "chromosomes_lst = list(set(expression_data.iloc[0][4:]))"
      ]
    },
    {
      "cell_type": "code",
      "execution_count": null,
      "metadata": {
        "id": "PVkkR1gtCZIR"
      },
      "outputs": [],
      "source": [
        "all_chromosomes = []\n",
        "for i in range(1,23):\n",
        "    df = pd.read_csv(f'LDREF/1000G.EUR.{i}.fam', header=None)\n",
        "    df = df[0].str.split(\" \", expand=True)\n",
        "    all_chromosomes.extend(list(df[0]))\n",
        "all_chromosomes = list(set(all_chromosomes))"
      ]
    },
    {
      "cell_type": "code",
      "execution_count": null,
      "metadata": {
        "id": "5XsF0K-jCZIR"
      },
      "outputs": [],
      "source": [
        "overlapping = set(chromosomes_lst).intersection(all_chromosomes)"
      ]
    },
    {
      "cell_type": "code",
      "execution_count": null,
      "metadata": {
        "id": "2TlvHmpyCZIR",
        "outputId": "ac3dc970-6c50-4c45-d93a-e1c1ff04e2c7"
      },
      "outputs": [
        {
          "data": {
            "text/plain": [
              "344"
            ]
          },
          "execution_count": 33,
          "metadata": {},
          "output_type": "execute_result"
        }
      ],
      "source": [
        "len(overlapping)"
      ]
    },
    {
      "cell_type": "markdown",
      "metadata": {
        "id": "wR4uVgc9CZIR"
      },
      "source": [
        "plink2 --bfile $input --maf 0.05 --out --make -bed where input=1000G.EUR.15 out=1000G.EUR.15.maf.05"
      ]
    },
    {
      "cell_type": "markdown",
      "metadata": {
        "id": "p7n2lHblCZIS"
      },
      "source": [
        "plink2 --bfile LDREF\\1000G.EUR.15 --maf 0.05 --out $1000G.EUR.15.maf0.05 --make-bed"
      ]
    }
  ],
  "metadata": {
    "kernelspec": {
      "display_name": "Python 3",
      "language": "python",
      "name": "python3"
    },
    "language_info": {
      "codemirror_mode": {
        "name": "ipython",
        "version": 3
      },
      "file_extension": ".py",
      "mimetype": "text/x-python",
      "name": "python",
      "nbconvert_exporter": "python",
      "pygments_lexer": "ipython3",
      "version": "3.11.6"
    },
    "colab": {
      "provenance": [],
      "include_colab_link": true
    }
  },
  "nbformat": 4,
  "nbformat_minor": 0
}
